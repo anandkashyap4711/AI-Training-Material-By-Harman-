{
 "cells": [
  {
   "cell_type": "markdown",
   "metadata": {},
   "source": [
    "#### String Text "
   ]
  },
  {
   "cell_type": "code",
   "execution_count": null,
   "metadata": {},
   "outputs": [],
   "source": [
    "str_1 = 'NLP Text Analytics'"
   ]
  },
  {
   "cell_type": "code",
   "execution_count": null,
   "metadata": {},
   "outputs": [],
   "source": [
    "type(str_1)"
   ]
  },
  {
   "cell_type": "code",
   "execution_count": null,
   "metadata": {},
   "outputs": [],
   "source": [
    "# Common string methods  \n",
    "print(str_1.lower())     \n",
    "#print(str_1.upper())      \n",
    "#print(str_1.lstrip())     \n",
    "#print(str_1.rstrip())     \n",
    "#print(str_1.strip())      "
   ]
  },
  {
   "cell_type": "code",
   "execution_count": null,
   "metadata": {},
   "outputs": [],
   "source": [
    "#str_1.startswith('N') \n",
    "str_1.startswith(' ')\n",
    "#str_1.startswith(' ', 3)\n",
    "#str_1.endswith(' ') "
   ]
  },
  {
   "cell_type": "code",
   "execution_count": null,
   "metadata": {},
   "outputs": [],
   "source": [
    "str_1 = ' Test String est est'\n",
    "str_1.find('est',3) # search for 'est' in the str_1 and returns the first index where it begins or -1 if not found"
   ]
  },
  {
   "cell_type": "code",
   "execution_count": null,
   "metadata": {},
   "outputs": [],
   "source": [
    "str_1.find('est',3)"
   ]
  },
  {
   "cell_type": "code",
   "execution_count": null,
   "metadata": {},
   "outputs": [],
   "source": [
    "# Exer - find all the postions for all the occurences for est"
   ]
  },
  {
   "cell_type": "code",
   "execution_count": null,
   "metadata": {},
   "outputs": [],
   "source": [
    "#str_1.find('est', 5, 25)  # search witin a range\n",
    "str_1.count('est')   "
   ]
  },
  {
   "cell_type": "code",
   "execution_count": null,
   "metadata": {},
   "outputs": [],
   "source": [
    "#[i for i in range(len(str_1)) if str_1.startswith('est', i)] # all the occurences pos of substr"
   ]
  },
  {
   "cell_type": "code",
   "execution_count": null,
   "metadata": {},
   "outputs": [],
   "source": [
    "str_1.replace('est', 'EST') "
   ]
  },
  {
   "cell_type": "code",
   "execution_count": null,
   "metadata": {},
   "outputs": [],
   "source": [
    "#str_1.replace('est', 'EST', 1) "
   ]
  },
  {
   "cell_type": "code",
   "execution_count": null,
   "metadata": {},
   "outputs": [],
   "source": [
    "str_1"
   ]
  },
  {
   "cell_type": "code",
   "execution_count": null,
   "metadata": {},
   "outputs": [],
   "source": [
    "text_1 = \"  text string to check sub string functionality \""
   ]
  },
  {
   "cell_type": "code",
   "execution_count": null,
   "metadata": {},
   "outputs": [],
   "source": [
    "text_1.replace(' ', '')"
   ]
  },
  {
   "cell_type": "code",
   "execution_count": null,
   "metadata": {},
   "outputs": [],
   "source": [
    "# Exercise - In text_1, \n",
    "text_1 = \"  text string to check sub string functionality \"\n",
    "\n",
    "#(1) remove all the leading and trailing spaces\n",
    "#(2) replace 1st occurence of 'string' with 'replaced'\n",
    "#(3) remove only leading spaces\n",
    "#(4) remove all the white spaces \n",
    "\n"
   ]
  },
  {
   "cell_type": "code",
   "execution_count": null,
   "metadata": {},
   "outputs": [],
   "source": [
    "str_2 = 'Test1 Test2 Test3'\n",
    "#str_2.split()     \n",
    "\n",
    "str_2.split(' ', maxsplit=1)     "
   ]
  },
  {
   "cell_type": "code",
   "execution_count": null,
   "metadata": {},
   "outputs": [],
   "source": [
    "# Refernce - String methods\n",
    "# https://docs.python.org/3.6/library/stdtypes.html#string-methods\n",
    "# "
   ]
  },
  {
   "cell_type": "code",
   "execution_count": null,
   "metadata": {},
   "outputs": [],
   "source": [
    "# Escape character '\\'"
   ]
  },
  {
   "cell_type": "code",
   "execution_count": null,
   "metadata": {},
   "outputs": [],
   "source": [
    "text_1 = 'she is Saurabh's sister'"
   ]
  },
  {
   "cell_type": "code",
   "execution_count": null,
   "metadata": {},
   "outputs": [],
   "source": [
    "# \\' \n",
    "text_1 = 'she is Saurabh\\'s sister' \n",
    "text_1"
   ]
  },
  {
   "cell_type": "code",
   "execution_count": null,
   "metadata": {},
   "outputs": [],
   "source": [
    "# \\\"\n",
    "text_2 = \"she is Saurabh\\\"s sister\"  \n",
    "text_2"
   ]
  },
  {
   "cell_type": "code",
   "execution_count": null,
   "metadata": {},
   "outputs": [],
   "source": [
    "# \\n \n",
    "text_3 = 'NLP is the part of AI\\nText feature engg required\\nML Modeling required'\n",
    "print(text_3)"
   ]
  },
  {
   "cell_type": "code",
   "execution_count": null,
   "metadata": {},
   "outputs": [],
   "source": [
    "# \\t \n",
    "text_3 = 'NLP is the part of AI\\tText feature engg required\\tML Modeling required'\n",
    "print(text_3)"
   ]
  },
  {
   "cell_type": "code",
   "execution_count": null,
   "metadata": {},
   "outputs": [],
   "source": [
    "# \\\\ - backslash\n",
    "text_3 = 'NLP is the parts of AI\\\\Text feature engg required\\\\ML Modeling required'\n",
    "print(text_3)"
   ]
  },
  {
   "cell_type": "code",
   "execution_count": null,
   "metadata": {},
   "outputs": [],
   "source": [
    "# Raw string - A raw string ignores all escape characters and prints any backslash that appears in the string.\n",
    "text_3 = r'NLP is the part\\'s of AI\\\\Text feature engg required\\\\ML Modeling required'\n",
    "print(text_3)"
   ]
  },
  {
   "cell_type": "markdown",
   "metadata": {},
   "source": [
    "#### lower() & upper() methods"
   ]
  },
  {
   "cell_type": "code",
   "execution_count": null,
   "metadata": {},
   "outputs": [],
   "source": [
    "'text'.islower()"
   ]
  },
  {
   "cell_type": "code",
   "execution_count": null,
   "metadata": {},
   "outputs": [],
   "source": [
    "'text'.isupper()"
   ]
  },
  {
   "cell_type": "code",
   "execution_count": null,
   "metadata": {},
   "outputs": [],
   "source": [
    "'TEXT'.isupper()"
   ]
  },
  {
   "cell_type": "code",
   "execution_count": null,
   "metadata": {},
   "outputs": [],
   "source": [
    "'TEXT'.lower()"
   ]
  },
  {
   "cell_type": "code",
   "execution_count": null,
   "metadata": {},
   "outputs": [],
   "source": [
    "'text'.isalpha() # check if string consists only of letters not in blank"
   ]
  },
  {
   "cell_type": "code",
   "execution_count": null,
   "metadata": {},
   "outputs": [],
   "source": [
    "'text3'.isalpha()"
   ]
  },
  {
   "cell_type": "code",
   "execution_count": null,
   "metadata": {},
   "outputs": [],
   "source": [
    "print('text3'.isalnum()) # check if string consists only of letters & numbers not in blank\n",
    "print('text3 '.isalnum())"
   ]
  },
  {
   "cell_type": "code",
   "execution_count": null,
   "metadata": {},
   "outputs": [],
   "source": [
    "print('text 10'.isdecimal()) # string consists only of numeric characters and is not blank\n",
    "print('10'.isdecimal())"
   ]
  },
  {
   "cell_type": "code",
   "execution_count": null,
   "metadata": {},
   "outputs": [],
   "source": [
    "'text '.isspace() # returns True if the string consists only of spaces, tabs, and new-lines and is not blank."
   ]
  },
  {
   "cell_type": "code",
   "execution_count": null,
   "metadata": {},
   "outputs": [],
   "source": [
    "'   '.isspace()"
   ]
  },
  {
   "cell_type": "code",
   "execution_count": null,
   "metadata": {},
   "outputs": [],
   "source": [
    "print('Text'.istitle()) #  if the string consists only of words that begin with an uppercase letter followed by only lowercase letters\n",
    "print('text'.istitle())"
   ]
  },
  {
   "cell_type": "code",
   "execution_count": null,
   "metadata": {},
   "outputs": [],
   "source": [
    "print('text'.isdigit())\n",
    "print('4321'.isdigit())"
   ]
  },
  {
   "cell_type": "markdown",
   "metadata": {},
   "source": [
    "#### join() and split()"
   ]
  },
  {
   "cell_type": "code",
   "execution_count": null,
   "metadata": {},
   "outputs": [],
   "source": [
    "' '.join(['apple', 'orange', 'banana']) "
   ]
  },
  {
   "cell_type": "code",
   "execution_count": null,
   "metadata": {},
   "outputs": [],
   "source": [
    "','.join(['apple', 'orange', 'banana']) "
   ]
  },
  {
   "cell_type": "code",
   "execution_count": null,
   "metadata": {},
   "outputs": [],
   "source": [
    "# The split() method  \n",
    "\" Banana Apple Orange\".split()  "
   ]
  },
  {
   "cell_type": "code",
   "execution_count": null,
   "metadata": {},
   "outputs": [],
   "source": [
    "\" Banana Apple Orange\\nnew line \".split() # splitted based on space and new line"
   ]
  },
  {
   "cell_type": "code",
   "execution_count": null,
   "metadata": {},
   "outputs": [],
   "source": [
    "\"BananaZ AppleZ OrangeZ\".split('Z') # splitted based on delimiter 'Z'"
   ]
  },
  {
   "cell_type": "markdown",
   "metadata": {},
   "source": [
    "###### RegEx Basics\n",
    "\n",
    "- A regular expression or regex is a sequence of characters and special meta characters that define a search Pattern. \n",
    "\n",
    "- A regular expression lets you define a \"pattern\" that can match strings of different lengths, made up of different characters.\n",
    "\n",
    "- Usually such patterns are used by string searching algorithms for \"find\" or \"find and replace\" operations on strings, or for input validation.\n",
    "\n"
   ]
  },
  {
   "cell_type": "code",
   "execution_count": null,
   "metadata": {},
   "outputs": [],
   "source": [
    "import re"
   ]
  },
  {
   "cell_type": "code",
   "execution_count": 45,
   "metadata": {},
   "outputs": [],
   "source": [
    "text1='There are 100 water bottles and 200 soft drinks'"
   ]
  },
  {
   "cell_type": "code",
   "execution_count": 46,
   "metadata": {},
   "outputs": [],
   "source": [
    "reg1 = re.compile('\\d')  # \\d - matach any digit"
   ]
  },
  {
   "cell_type": "code",
   "execution_count": 47,
   "metadata": {},
   "outputs": [
    {
     "data": {
      "text/plain": [
       "['1', '0', '0', '2', '0', '0']"
      ]
     },
     "execution_count": 47,
     "metadata": {},
     "output_type": "execute_result"
    }
   ],
   "source": [
    "reg1.findall(text1)"
   ]
  },
  {
   "cell_type": "code",
   "execution_count": 48,
   "metadata": {},
   "outputs": [],
   "source": [
    "reg1 = re.compile('\\d\\d\\d') "
   ]
  },
  {
   "cell_type": "code",
   "execution_count": 49,
   "metadata": {},
   "outputs": [
    {
     "data": {
      "text/plain": [
       "['100', '200']"
      ]
     },
     "execution_count": 49,
     "metadata": {},
     "output_type": "execute_result"
    }
   ],
   "source": [
    "reg1.findall(text1)"
   ]
  },
  {
   "cell_type": "code",
   "execution_count": null,
   "metadata": {},
   "outputs": [],
   "source": [
    "reg1 = re.compile('[0-9][0-9][0-9]')  # [] - match any digit"
   ]
  },
  {
   "cell_type": "code",
   "execution_count": null,
   "metadata": {},
   "outputs": [],
   "source": [
    "reg1.findall(text1)"
   ]
  },
  {
   "cell_type": "code",
   "execution_count": 50,
   "metadata": {},
   "outputs": [],
   "source": [
    "reg1 = re.compile('[0-9]{1,}') # match any digit with one or more numbers"
   ]
  },
  {
   "cell_type": "code",
   "execution_count": 51,
   "metadata": {},
   "outputs": [
    {
     "data": {
      "text/plain": [
       "['100', '200']"
      ]
     },
     "execution_count": 51,
     "metadata": {},
     "output_type": "execute_result"
    }
   ],
   "source": [
    "reg1.findall(text1)"
   ]
  },
  {
   "cell_type": "code",
   "execution_count": null,
   "metadata": {},
   "outputs": [],
   "source": []
  },
  {
   "cell_type": "code",
   "execution_count": null,
   "metadata": {},
   "outputs": [],
   "source": [
    "# Assignment\n",
    "# Requirement - Search a phone number pattern ( +91-99999-99999) in a string.\n",
    "# \n",
    "# input_Text = \"Please call me at +91-76534-32456, +91-41523-55599.\""
   ]
  },
  {
   "cell_type": "code",
   "execution_count": 65,
   "metadata": {},
   "outputs": [],
   "source": [
    "# Example find the phone numbers in the below text string\n",
    "text_msg = \"Please call me at +91-76534-32456, +91-41523-55599  +9199.\""
   ]
  },
  {
   "cell_type": "code",
   "execution_count": 70,
   "metadata": {},
   "outputs": [],
   "source": [
    "reg1 = re.compile('\\+\\d\\d-\\d\\d\\d\\d\\d-\\d\\d\\d\\d\\d') # create regex object"
   ]
  },
  {
   "cell_type": "code",
   "execution_count": 71,
   "metadata": {},
   "outputs": [
    {
     "data": {
      "text/plain": [
       "['+91-76534-32456', '+91-41523-55599']"
      ]
     },
     "execution_count": 71,
     "metadata": {},
     "output_type": "execute_result"
    }
   ],
   "source": [
    "reg1.findall(text_msg)"
   ]
  },
  {
   "cell_type": "code",
   "execution_count": null,
   "metadata": {},
   "outputs": [],
   "source": [
    "# Regular expressions include several special character sets that allow to quickly specify certain common character types. They include:\n",
    "# [a-z] - match any lowercase letter \n",
    "# [A-Z] - match any uppercase letter \n",
    "# [0-9] - match any digit \n",
    "# [a-zA-Z0-9] - match any letter or digit\n",
    "# Adding the \"^\" symbol inside the square brackets matches any characters NOT in the set:\n",
    "# [^a-z] - match any character that is not a lowercase letter \n",
    "# [^A-Z] - match any character that is not a uppercase letter \n",
    "# [^0-9] - match any character that is not a digit \n",
    "# [^a-zA-Z0-9] - match any character that is not a letter or digit\n",
    "# Python regular expressions also include a shorthand for specifying common sequences:\n",
    "# \\d - match any digit \n",
    "# \\D - match any non digit \n",
    "# \\w - match a word character(alphabets, numbers, _)\n",
    "# \\W - match a non-word character \n",
    "# \\s - match whitespace (spaces, tabs, newlines, etc.) \n",
    "# \\S - match non-whitespace\n",
    "# \"^\" - outside of square brackets, the caret symbol searches for matches at the beginning of a string:\n"
   ]
  },
  {
   "cell_type": "markdown",
   "metadata": {},
   "source": [
    "#### Character Classes"
   ]
  },
  {
   "cell_type": "code",
   "execution_count": 92,
   "metadata": {},
   "outputs": [
    {
     "data": {
      "text/plain": [
       "['10 students', '5 participants']"
      ]
     },
     "execution_count": 92,
     "metadata": {},
     "output_type": "execute_result"
    }
   ],
   "source": [
    "xmasRegex = re.compile(r'\\d+\\s\\w+') \n",
    "xmasRegex.findall('10 students, 5 participants, 6participants')\n",
    "\n",
    "# The regular expression \\d+\\s\\w+ will match text that has one or more numeric digits (\\d+),\n",
    "# followed by a whitespace character (\\s), followed by one or more letter/digit/underscore characters (\\w+).\n",
    "# The findall() method returns all matching strings of the regex pattern in a list."
   ]
  }
 ],
 "metadata": {
  "kernelspec": {
   "display_name": "Python 3",
   "language": "python",
   "name": "python3"
  },
  "language_info": {
   "codemirror_mode": {
    "name": "ipython",
    "version": 3
   },
   "file_extension": ".py",
   "mimetype": "text/x-python",
   "name": "python",
   "nbconvert_exporter": "python",
   "pygments_lexer": "ipython3",
   "version": "3.7.5"
  }
 },
 "nbformat": 4,
 "nbformat_minor": 2
}
